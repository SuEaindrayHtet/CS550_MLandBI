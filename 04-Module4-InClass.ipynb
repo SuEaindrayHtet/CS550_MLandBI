{
 "cells": [
  {
   "cell_type": "markdown",
   "id": "2d1be43c-9de7-4bfb-a8b5-a4c3e5316b2c",
   "metadata": {},
   "source": [
    "\n",
    "# Column Transformer with Mixed Types\n",
    "\n",
    "\n",
    "This example illustrates how to apply different preprocessing and feature\n",
    "extraction pipelines to different subsets of features, using\n",
    "`ColumnTransformer`. This is particularly handy for the\n",
    "case of datasets that contain heterogeneous data types, since we may want to\n",
    "scale the numeric features and one-hot encode the categorical ones.\n",
    "\n",
    "In this example, the numeric data is standard-scaled after mean-imputation,\n",
    "while the categorical data is one-hot encoded after imputing missing values\n",
    "with a new category (``'missing'``).\n",
    "\n",
    "In addition, we show two different ways to dispatch the columns to the\n",
    "particular pre-processor: by column names and by column data types.\n",
    "\n",
    "Finally, the preprocessing pipeline is integrated in a full prediction pipeline\n",
    "using `Pipeline`, together with a simple classification\n",
    "model.\n"
   ]
  },
  {
   "cell_type": "code",
   "execution_count": 2,
   "id": "2c9f3f81-e007-4eea-ae21-c1cb8086d0d0",
   "metadata": {},
   "outputs": [],
   "source": [
    "import numpy as np\n",
    "import pandas as pd\n",
    "\n",
    "from sklearn.compose import ColumnTransformer\n",
    "from sklearn.pipeline import Pipeline\n",
    "from sklearn.impute import SimpleImputer\n",
    "from sklearn.preprocessing import StandardScaler, OneHotEncoder\n",
    "from sklearn.neighbors import KNeighborsClassifier\n",
    "from sklearn.model_selection import train_test_split, GridSearchCV\n"
   ]
  },
  {
   "cell_type": "markdown",
   "id": "795f9cfd-ad4e-45c5-a0ab-9fef59230aa1",
   "metadata": {},
   "source": [
    "#### Step 1: Read the data set `Titanic.csv`\n",
    "Print the column names. Drop 'boat','body','cabin','home.dest','name','ticket','sibsp','parch'"
   ]
  },
  {
   "cell_type": "code",
   "execution_count": 3,
   "id": "811ea604-8a7e-4f19-b5a1-76656ec72d1d",
   "metadata": {},
   "outputs": [
    {
     "data": {
      "text/html": [
       "<div>\n",
       "<style scoped>\n",
       "    .dataframe tbody tr th:only-of-type {\n",
       "        vertical-align: middle;\n",
       "    }\n",
       "\n",
       "    .dataframe tbody tr th {\n",
       "        vertical-align: top;\n",
       "    }\n",
       "\n",
       "    .dataframe thead th {\n",
       "        text-align: right;\n",
       "    }\n",
       "</style>\n",
       "<table border=\"1\" class=\"dataframe\">\n",
       "  <thead>\n",
       "    <tr style=\"text-align: right;\">\n",
       "      <th></th>\n",
       "      <th>pclass</th>\n",
       "      <th>survived</th>\n",
       "      <th>name</th>\n",
       "      <th>sex</th>\n",
       "      <th>age</th>\n",
       "      <th>sibsp</th>\n",
       "      <th>parch</th>\n",
       "      <th>ticket</th>\n",
       "      <th>fare</th>\n",
       "      <th>cabin</th>\n",
       "      <th>embarked</th>\n",
       "      <th>boat</th>\n",
       "      <th>body</th>\n",
       "      <th>home.dest</th>\n",
       "    </tr>\n",
       "  </thead>\n",
       "  <tbody>\n",
       "    <tr>\n",
       "      <th>0</th>\n",
       "      <td>1</td>\n",
       "      <td>1</td>\n",
       "      <td>Allen, Miss. Elisabeth Walton</td>\n",
       "      <td>female</td>\n",
       "      <td>29</td>\n",
       "      <td>0</td>\n",
       "      <td>0</td>\n",
       "      <td>24160</td>\n",
       "      <td>211.3375</td>\n",
       "      <td>B5</td>\n",
       "      <td>S</td>\n",
       "      <td>2</td>\n",
       "      <td>?</td>\n",
       "      <td>St Louis, MO</td>\n",
       "    </tr>\n",
       "    <tr>\n",
       "      <th>1</th>\n",
       "      <td>1</td>\n",
       "      <td>1</td>\n",
       "      <td>Allison, Master. Hudson Trevor</td>\n",
       "      <td>male</td>\n",
       "      <td>0.9167</td>\n",
       "      <td>1</td>\n",
       "      <td>2</td>\n",
       "      <td>113781</td>\n",
       "      <td>151.55</td>\n",
       "      <td>C22 C26</td>\n",
       "      <td>S</td>\n",
       "      <td>11</td>\n",
       "      <td>?</td>\n",
       "      <td>Montreal, PQ / Chesterville, ON</td>\n",
       "    </tr>\n",
       "    <tr>\n",
       "      <th>2</th>\n",
       "      <td>1</td>\n",
       "      <td>0</td>\n",
       "      <td>Allison, Miss. Helen Loraine</td>\n",
       "      <td>female</td>\n",
       "      <td>2</td>\n",
       "      <td>1</td>\n",
       "      <td>2</td>\n",
       "      <td>113781</td>\n",
       "      <td>151.55</td>\n",
       "      <td>C22 C26</td>\n",
       "      <td>S</td>\n",
       "      <td>?</td>\n",
       "      <td>?</td>\n",
       "      <td>Montreal, PQ / Chesterville, ON</td>\n",
       "    </tr>\n",
       "    <tr>\n",
       "      <th>3</th>\n",
       "      <td>1</td>\n",
       "      <td>0</td>\n",
       "      <td>Allison, Mr. Hudson Joshua Creighton</td>\n",
       "      <td>male</td>\n",
       "      <td>30</td>\n",
       "      <td>1</td>\n",
       "      <td>2</td>\n",
       "      <td>113781</td>\n",
       "      <td>151.55</td>\n",
       "      <td>C22 C26</td>\n",
       "      <td>S</td>\n",
       "      <td>?</td>\n",
       "      <td>135</td>\n",
       "      <td>Montreal, PQ / Chesterville, ON</td>\n",
       "    </tr>\n",
       "    <tr>\n",
       "      <th>4</th>\n",
       "      <td>1</td>\n",
       "      <td>0</td>\n",
       "      <td>Allison, Mrs. Hudson J C (Bessie Waldo Daniels)</td>\n",
       "      <td>female</td>\n",
       "      <td>25</td>\n",
       "      <td>1</td>\n",
       "      <td>2</td>\n",
       "      <td>113781</td>\n",
       "      <td>151.55</td>\n",
       "      <td>C22 C26</td>\n",
       "      <td>S</td>\n",
       "      <td>?</td>\n",
       "      <td>?</td>\n",
       "      <td>Montreal, PQ / Chesterville, ON</td>\n",
       "    </tr>\n",
       "  </tbody>\n",
       "</table>\n",
       "</div>"
      ],
      "text/plain": [
       "   pclass  survived                                             name     sex  \\\n",
       "0       1         1                    Allen, Miss. Elisabeth Walton  female   \n",
       "1       1         1                   Allison, Master. Hudson Trevor    male   \n",
       "2       1         0                     Allison, Miss. Helen Loraine  female   \n",
       "3       1         0             Allison, Mr. Hudson Joshua Creighton    male   \n",
       "4       1         0  Allison, Mrs. Hudson J C (Bessie Waldo Daniels)  female   \n",
       "\n",
       "      age  sibsp  parch  ticket      fare    cabin embarked boat body  \\\n",
       "0      29      0      0   24160  211.3375       B5        S    2    ?   \n",
       "1  0.9167      1      2  113781    151.55  C22 C26        S   11    ?   \n",
       "2       2      1      2  113781    151.55  C22 C26        S    ?    ?   \n",
       "3      30      1      2  113781    151.55  C22 C26        S    ?  135   \n",
       "4      25      1      2  113781    151.55  C22 C26        S    ?    ?   \n",
       "\n",
       "                         home.dest  \n",
       "0                     St Louis, MO  \n",
       "1  Montreal, PQ / Chesterville, ON  \n",
       "2  Montreal, PQ / Chesterville, ON  \n",
       "3  Montreal, PQ / Chesterville, ON  \n",
       "4  Montreal, PQ / Chesterville, ON  "
      ]
     },
     "execution_count": 3,
     "metadata": {},
     "output_type": "execute_result"
    }
   ],
   "source": [
    "df=pd.read_csv('Titanic.csv')\n",
    "df.head()"
   ]
  },
  {
   "cell_type": "code",
   "execution_count": 6,
   "id": "25bbe2ee",
   "metadata": {},
   "outputs": [],
   "source": [
    "mod_df=df.drop(['boat','body','cabin','home.dest','name','ticket','sibsp','parch'],axis=1)"
   ]
  },
  {
   "cell_type": "code",
   "execution_count": 7,
   "id": "4b87369c",
   "metadata": {},
   "outputs": [
    {
     "data": {
      "text/html": [
       "<div>\n",
       "<style scoped>\n",
       "    .dataframe tbody tr th:only-of-type {\n",
       "        vertical-align: middle;\n",
       "    }\n",
       "\n",
       "    .dataframe tbody tr th {\n",
       "        vertical-align: top;\n",
       "    }\n",
       "\n",
       "    .dataframe thead th {\n",
       "        text-align: right;\n",
       "    }\n",
       "</style>\n",
       "<table border=\"1\" class=\"dataframe\">\n",
       "  <thead>\n",
       "    <tr style=\"text-align: right;\">\n",
       "      <th></th>\n",
       "      <th>pclass</th>\n",
       "      <th>survived</th>\n",
       "      <th>sex</th>\n",
       "      <th>age</th>\n",
       "      <th>fare</th>\n",
       "      <th>embarked</th>\n",
       "    </tr>\n",
       "  </thead>\n",
       "  <tbody>\n",
       "    <tr>\n",
       "      <th>0</th>\n",
       "      <td>1</td>\n",
       "      <td>1</td>\n",
       "      <td>female</td>\n",
       "      <td>29</td>\n",
       "      <td>211.3375</td>\n",
       "      <td>S</td>\n",
       "    </tr>\n",
       "    <tr>\n",
       "      <th>1</th>\n",
       "      <td>1</td>\n",
       "      <td>1</td>\n",
       "      <td>male</td>\n",
       "      <td>0.9167</td>\n",
       "      <td>151.55</td>\n",
       "      <td>S</td>\n",
       "    </tr>\n",
       "    <tr>\n",
       "      <th>2</th>\n",
       "      <td>1</td>\n",
       "      <td>0</td>\n",
       "      <td>female</td>\n",
       "      <td>2</td>\n",
       "      <td>151.55</td>\n",
       "      <td>S</td>\n",
       "    </tr>\n",
       "    <tr>\n",
       "      <th>3</th>\n",
       "      <td>1</td>\n",
       "      <td>0</td>\n",
       "      <td>male</td>\n",
       "      <td>30</td>\n",
       "      <td>151.55</td>\n",
       "      <td>S</td>\n",
       "    </tr>\n",
       "    <tr>\n",
       "      <th>4</th>\n",
       "      <td>1</td>\n",
       "      <td>0</td>\n",
       "      <td>female</td>\n",
       "      <td>25</td>\n",
       "      <td>151.55</td>\n",
       "      <td>S</td>\n",
       "    </tr>\n",
       "  </tbody>\n",
       "</table>\n",
       "</div>"
      ],
      "text/plain": [
       "   pclass  survived     sex     age      fare embarked\n",
       "0       1         1  female      29  211.3375        S\n",
       "1       1         1    male  0.9167    151.55        S\n",
       "2       1         0  female       2    151.55        S\n",
       "3       1         0    male      30    151.55        S\n",
       "4       1         0  female      25    151.55        S"
      ]
     },
     "execution_count": 7,
     "metadata": {},
     "output_type": "execute_result"
    }
   ],
   "source": [
    "mod_df.head()"
   ]
  },
  {
   "cell_type": "markdown",
   "id": "76d27ab8-9925-4acc-9b20-bfb561376a7e",
   "metadata": {},
   "source": [
    "#### Step 2: Calculate duplicates\n",
    "- Report the size of the dataset\n",
    "- Report if there are any duplicates using `duplicated()` method of pandas dataframe\n",
    "- List all duplicate rows\n",
    "- Drop all duplicate rows using `dop_duplicates` method of pandas dataframe\n",
    "- Report the new shape of the dataset"
   ]
  },
  {
   "cell_type": "code",
   "execution_count": 10,
   "id": "5f3db1c9",
   "metadata": {},
   "outputs": [
    {
     "data": {
      "text/plain": [
       "(1309, 14)"
      ]
     },
     "execution_count": 10,
     "metadata": {},
     "output_type": "execute_result"
    }
   ],
   "source": [
    "df.shape"
   ]
  },
  {
   "cell_type": "code",
   "execution_count": 9,
   "id": "319c08de-8dfb-4ff9-8889-dab15a123c23",
   "metadata": {},
   "outputs": [
    {
     "data": {
      "text/html": [
       "<div>\n",
       "<style scoped>\n",
       "    .dataframe tbody tr th:only-of-type {\n",
       "        vertical-align: middle;\n",
       "    }\n",
       "\n",
       "    .dataframe tbody tr th {\n",
       "        vertical-align: top;\n",
       "    }\n",
       "\n",
       "    .dataframe thead th {\n",
       "        text-align: right;\n",
       "    }\n",
       "</style>\n",
       "<table border=\"1\" class=\"dataframe\">\n",
       "  <thead>\n",
       "    <tr style=\"text-align: right;\">\n",
       "      <th></th>\n",
       "      <th>pclass</th>\n",
       "      <th>survived</th>\n",
       "      <th>sex</th>\n",
       "      <th>age</th>\n",
       "      <th>fare</th>\n",
       "      <th>embarked</th>\n",
       "    </tr>\n",
       "  </thead>\n",
       "  <tbody>\n",
       "    <tr>\n",
       "      <th>118</th>\n",
       "      <td>1</td>\n",
       "      <td>0</td>\n",
       "      <td>male</td>\n",
       "      <td>?</td>\n",
       "      <td>26.55</td>\n",
       "      <td>S</td>\n",
       "    </tr>\n",
       "    <tr>\n",
       "      <th>125</th>\n",
       "      <td>1</td>\n",
       "      <td>0</td>\n",
       "      <td>male</td>\n",
       "      <td>?</td>\n",
       "      <td>0</td>\n",
       "      <td>S</td>\n",
       "    </tr>\n",
       "    <tr>\n",
       "      <th>179</th>\n",
       "      <td>1</td>\n",
       "      <td>0</td>\n",
       "      <td>male</td>\n",
       "      <td>?</td>\n",
       "      <td>26.55</td>\n",
       "      <td>S</td>\n",
       "    </tr>\n",
       "    <tr>\n",
       "      <th>185</th>\n",
       "      <td>1</td>\n",
       "      <td>0</td>\n",
       "      <td>male</td>\n",
       "      <td>42</td>\n",
       "      <td>26.55</td>\n",
       "      <td>S</td>\n",
       "    </tr>\n",
       "    <tr>\n",
       "      <th>223</th>\n",
       "      <td>1</td>\n",
       "      <td>0</td>\n",
       "      <td>male</td>\n",
       "      <td>?</td>\n",
       "      <td>0</td>\n",
       "      <td>S</td>\n",
       "    </tr>\n",
       "    <tr>\n",
       "      <th>...</th>\n",
       "      <td>...</td>\n",
       "      <td>...</td>\n",
       "      <td>...</td>\n",
       "      <td>...</td>\n",
       "      <td>...</td>\n",
       "      <td>...</td>\n",
       "    </tr>\n",
       "    <tr>\n",
       "      <th>1296</th>\n",
       "      <td>3</td>\n",
       "      <td>0</td>\n",
       "      <td>male</td>\n",
       "      <td>27</td>\n",
       "      <td>8.6625</td>\n",
       "      <td>S</td>\n",
       "    </tr>\n",
       "    <tr>\n",
       "      <th>1297</th>\n",
       "      <td>3</td>\n",
       "      <td>0</td>\n",
       "      <td>male</td>\n",
       "      <td>?</td>\n",
       "      <td>7.25</td>\n",
       "      <td>S</td>\n",
       "    </tr>\n",
       "    <tr>\n",
       "      <th>1302</th>\n",
       "      <td>3</td>\n",
       "      <td>0</td>\n",
       "      <td>male</td>\n",
       "      <td>?</td>\n",
       "      <td>7.225</td>\n",
       "      <td>C</td>\n",
       "    </tr>\n",
       "    <tr>\n",
       "      <th>1303</th>\n",
       "      <td>3</td>\n",
       "      <td>0</td>\n",
       "      <td>male</td>\n",
       "      <td>?</td>\n",
       "      <td>14.4583</td>\n",
       "      <td>C</td>\n",
       "    </tr>\n",
       "    <tr>\n",
       "      <th>1305</th>\n",
       "      <td>3</td>\n",
       "      <td>0</td>\n",
       "      <td>female</td>\n",
       "      <td>?</td>\n",
       "      <td>14.4542</td>\n",
       "      <td>C</td>\n",
       "    </tr>\n",
       "  </tbody>\n",
       "</table>\n",
       "<p>215 rows × 6 columns</p>\n",
       "</div>"
      ],
      "text/plain": [
       "      pclass  survived     sex age     fare embarked\n",
       "118        1         0    male   ?    26.55        S\n",
       "125        1         0    male   ?        0        S\n",
       "179        1         0    male   ?    26.55        S\n",
       "185        1         0    male  42    26.55        S\n",
       "223        1         0    male   ?        0        S\n",
       "...      ...       ...     ...  ..      ...      ...\n",
       "1296       3         0    male  27   8.6625        S\n",
       "1297       3         0    male   ?     7.25        S\n",
       "1302       3         0    male   ?    7.225        C\n",
       "1303       3         0    male   ?  14.4583        C\n",
       "1305       3         0  female   ?  14.4542        C\n",
       "\n",
       "[215 rows x 6 columns]"
      ]
     },
     "execution_count": 9,
     "metadata": {},
     "output_type": "execute_result"
    }
   ],
   "source": [
    "mod_df[mod_df.duplicated()]"
   ]
  },
  {
   "cell_type": "code",
   "execution_count": 17,
   "id": "22faf803",
   "metadata": {},
   "outputs": [],
   "source": [
    "# We will keep the first copy() # default\n",
    "drop_dpc_df=mod_df.drop_duplicates()\n",
    "\n",
    "# We will keep the last copy() \n",
    "#mod_df.drop_duplicates(subset=['pclass'],keep='last')"
   ]
  },
  {
   "cell_type": "code",
   "execution_count": 18,
   "id": "b595a799",
   "metadata": {},
   "outputs": [
    {
     "data": {
      "text/html": [
       "<div>\n",
       "<style scoped>\n",
       "    .dataframe tbody tr th:only-of-type {\n",
       "        vertical-align: middle;\n",
       "    }\n",
       "\n",
       "    .dataframe tbody tr th {\n",
       "        vertical-align: top;\n",
       "    }\n",
       "\n",
       "    .dataframe thead th {\n",
       "        text-align: right;\n",
       "    }\n",
       "</style>\n",
       "<table border=\"1\" class=\"dataframe\">\n",
       "  <thead>\n",
       "    <tr style=\"text-align: right;\">\n",
       "      <th></th>\n",
       "      <th>pclass</th>\n",
       "      <th>survived</th>\n",
       "      <th>sex</th>\n",
       "      <th>age</th>\n",
       "      <th>fare</th>\n",
       "      <th>embarked</th>\n",
       "    </tr>\n",
       "  </thead>\n",
       "  <tbody>\n",
       "    <tr>\n",
       "      <th>0</th>\n",
       "      <td>1</td>\n",
       "      <td>1</td>\n",
       "      <td>female</td>\n",
       "      <td>29</td>\n",
       "      <td>211.3375</td>\n",
       "      <td>S</td>\n",
       "    </tr>\n",
       "    <tr>\n",
       "      <th>1</th>\n",
       "      <td>1</td>\n",
       "      <td>1</td>\n",
       "      <td>male</td>\n",
       "      <td>0.9167</td>\n",
       "      <td>151.55</td>\n",
       "      <td>S</td>\n",
       "    </tr>\n",
       "    <tr>\n",
       "      <th>2</th>\n",
       "      <td>1</td>\n",
       "      <td>0</td>\n",
       "      <td>female</td>\n",
       "      <td>2</td>\n",
       "      <td>151.55</td>\n",
       "      <td>S</td>\n",
       "    </tr>\n",
       "    <tr>\n",
       "      <th>3</th>\n",
       "      <td>1</td>\n",
       "      <td>0</td>\n",
       "      <td>male</td>\n",
       "      <td>30</td>\n",
       "      <td>151.55</td>\n",
       "      <td>S</td>\n",
       "    </tr>\n",
       "    <tr>\n",
       "      <th>4</th>\n",
       "      <td>1</td>\n",
       "      <td>0</td>\n",
       "      <td>female</td>\n",
       "      <td>25</td>\n",
       "      <td>151.55</td>\n",
       "      <td>S</td>\n",
       "    </tr>\n",
       "    <tr>\n",
       "      <th>...</th>\n",
       "      <td>...</td>\n",
       "      <td>...</td>\n",
       "      <td>...</td>\n",
       "      <td>...</td>\n",
       "      <td>...</td>\n",
       "      <td>...</td>\n",
       "    </tr>\n",
       "    <tr>\n",
       "      <th>1301</th>\n",
       "      <td>3</td>\n",
       "      <td>0</td>\n",
       "      <td>male</td>\n",
       "      <td>45.5</td>\n",
       "      <td>7.225</td>\n",
       "      <td>C</td>\n",
       "    </tr>\n",
       "    <tr>\n",
       "      <th>1304</th>\n",
       "      <td>3</td>\n",
       "      <td>0</td>\n",
       "      <td>female</td>\n",
       "      <td>14.5</td>\n",
       "      <td>14.4542</td>\n",
       "      <td>C</td>\n",
       "    </tr>\n",
       "    <tr>\n",
       "      <th>1306</th>\n",
       "      <td>3</td>\n",
       "      <td>0</td>\n",
       "      <td>male</td>\n",
       "      <td>26.5</td>\n",
       "      <td>7.225</td>\n",
       "      <td>C</td>\n",
       "    </tr>\n",
       "    <tr>\n",
       "      <th>1307</th>\n",
       "      <td>3</td>\n",
       "      <td>0</td>\n",
       "      <td>male</td>\n",
       "      <td>27</td>\n",
       "      <td>7.225</td>\n",
       "      <td>C</td>\n",
       "    </tr>\n",
       "    <tr>\n",
       "      <th>1308</th>\n",
       "      <td>3</td>\n",
       "      <td>0</td>\n",
       "      <td>male</td>\n",
       "      <td>29</td>\n",
       "      <td>7.875</td>\n",
       "      <td>S</td>\n",
       "    </tr>\n",
       "  </tbody>\n",
       "</table>\n",
       "<p>1094 rows × 6 columns</p>\n",
       "</div>"
      ],
      "text/plain": [
       "      pclass  survived     sex     age      fare embarked\n",
       "0          1         1  female      29  211.3375        S\n",
       "1          1         1    male  0.9167    151.55        S\n",
       "2          1         0  female       2    151.55        S\n",
       "3          1         0    male      30    151.55        S\n",
       "4          1         0  female      25    151.55        S\n",
       "...      ...       ...     ...     ...       ...      ...\n",
       "1301       3         0    male    45.5     7.225        C\n",
       "1304       3         0  female    14.5   14.4542        C\n",
       "1306       3         0    male    26.5     7.225        C\n",
       "1307       3         0    male      27     7.225        C\n",
       "1308       3         0    male      29     7.875        S\n",
       "\n",
       "[1094 rows x 6 columns]"
      ]
     },
     "execution_count": 18,
     "metadata": {},
     "output_type": "execute_result"
    }
   ],
   "source": [
    "drop_dpc_df"
   ]
  },
  {
   "cell_type": "markdown",
   "id": "5a85e796-19b8-49f5-962c-207f40d90d3a",
   "metadata": {},
   "source": [
    "#### Step 3: Explore the dataset for missing values\n",
    "- Assign `survived' as target variable `y` and the rest as `X`\n",
    "- Print info about `X` to see if there are any null values and the type of the features\n",
    "- Check if all columns have only alpha numeric characters. To do that you need to use `isalnum()` method of Python which works on strings. Before using this method. we need to change all features into string using `astype('str')`\n",
    "- Replace all `?` characters with `np.nan`\n",
    "- Now, turn 'age','fare' into numeric again using `apply(pd.to_numeric) `\n",
    "- Print the first five samples of `X`\n",
    "- Summarize the number of unique values in each column using `nunique()`"
   ]
  },
  {
   "cell_type": "code",
   "execution_count": 22,
   "id": "5dde341e-6d31-4f7d-8ea0-acf02718919f",
   "metadata": {},
   "outputs": [],
   "source": [
    "y=drop_dpc_df['survived']\n",
    "X=drop_dpc_df.drop('survived',axis=1)"
   ]
  },
  {
   "cell_type": "code",
   "execution_count": 23,
   "id": "c34bebbd",
   "metadata": {},
   "outputs": [
    {
     "name": "stdout",
     "output_type": "stream",
     "text": [
      "<class 'pandas.core.frame.DataFrame'>\n",
      "Int64Index: 1094 entries, 0 to 1308\n",
      "Data columns (total 5 columns):\n",
      " #   Column    Non-Null Count  Dtype \n",
      "---  ------    --------------  ----- \n",
      " 0   pclass    1094 non-null   int64 \n",
      " 1   sex       1094 non-null   object\n",
      " 2   age       1094 non-null   object\n",
      " 3   fare      1094 non-null   object\n",
      " 4   embarked  1094 non-null   object\n",
      "dtypes: int64(1), object(4)\n",
      "memory usage: 51.3+ KB\n"
     ]
    }
   ],
   "source": [
    "X.info()"
   ]
  },
  {
   "cell_type": "code",
   "execution_count": 25,
   "id": "dea08d91",
   "metadata": {},
   "outputs": [
    {
     "data": {
      "text/html": [
       "<div>\n",
       "<style scoped>\n",
       "    .dataframe tbody tr th:only-of-type {\n",
       "        vertical-align: middle;\n",
       "    }\n",
       "\n",
       "    .dataframe tbody tr th {\n",
       "        vertical-align: top;\n",
       "    }\n",
       "\n",
       "    .dataframe thead th {\n",
       "        text-align: right;\n",
       "    }\n",
       "</style>\n",
       "<table border=\"1\" class=\"dataframe\">\n",
       "  <thead>\n",
       "    <tr style=\"text-align: right;\">\n",
       "      <th></th>\n",
       "      <th>pclass</th>\n",
       "      <th>survived</th>\n",
       "    </tr>\n",
       "  </thead>\n",
       "  <tbody>\n",
       "    <tr>\n",
       "      <th>count</th>\n",
       "      <td>1094.000000</td>\n",
       "      <td>1094.000000</td>\n",
       "    </tr>\n",
       "    <tr>\n",
       "      <th>mean</th>\n",
       "      <td>2.211152</td>\n",
       "      <td>0.423218</td>\n",
       "    </tr>\n",
       "    <tr>\n",
       "      <th>std</th>\n",
       "      <td>0.860979</td>\n",
       "      <td>0.494295</td>\n",
       "    </tr>\n",
       "    <tr>\n",
       "      <th>min</th>\n",
       "      <td>1.000000</td>\n",
       "      <td>0.000000</td>\n",
       "    </tr>\n",
       "    <tr>\n",
       "      <th>25%</th>\n",
       "      <td>1.000000</td>\n",
       "      <td>0.000000</td>\n",
       "    </tr>\n",
       "    <tr>\n",
       "      <th>50%</th>\n",
       "      <td>2.000000</td>\n",
       "      <td>0.000000</td>\n",
       "    </tr>\n",
       "    <tr>\n",
       "      <th>75%</th>\n",
       "      <td>3.000000</td>\n",
       "      <td>1.000000</td>\n",
       "    </tr>\n",
       "    <tr>\n",
       "      <th>max</th>\n",
       "      <td>3.000000</td>\n",
       "      <td>1.000000</td>\n",
       "    </tr>\n",
       "  </tbody>\n",
       "</table>\n",
       "</div>"
      ],
      "text/plain": [
       "            pclass     survived\n",
       "count  1094.000000  1094.000000\n",
       "mean      2.211152     0.423218\n",
       "std       0.860979     0.494295\n",
       "min       1.000000     0.000000\n",
       "25%       1.000000     0.000000\n",
       "50%       2.000000     0.000000\n",
       "75%       3.000000     1.000000\n",
       "max       3.000000     1.000000"
      ]
     },
     "execution_count": 25,
     "metadata": {},
     "output_type": "execute_result"
    }
   ],
   "source": [
    "drop_dpc_df.describe()"
   ]
  },
  {
   "cell_type": "code",
   "execution_count": 26,
   "id": "73b1232a",
   "metadata": {},
   "outputs": [
    {
     "data": {
      "text/plain": [
       "pclass       int64\n",
       "sex         object\n",
       "age         object\n",
       "fare        object\n",
       "embarked    object\n",
       "dtype: object"
      ]
     },
     "execution_count": 26,
     "metadata": {},
     "output_type": "execute_result"
    }
   ],
   "source": [
    "X.dtypes"
   ]
  },
  {
   "cell_type": "code",
   "execution_count": 29,
   "id": "d8d9ab81",
   "metadata": {},
   "outputs": [],
   "source": [
    "# Changing datatypes of multiple columns at the same time\n",
    "a={'pclass':'str'}\n",
    "X=X.astype(a)\n",
    "\n",
    "#cols=X.columns\n",
    "# X[cols] = X[cols].astype('str')"
   ]
  },
  {
   "cell_type": "code",
   "execution_count": 40,
   "id": "e8810575",
   "metadata": {},
   "outputs": [
    {
     "data": {
      "text/plain": [
       "pclass      0\n",
       "sex         0\n",
       "age         0\n",
       "fare        0\n",
       "embarked    0\n",
       "dtype: int64"
      ]
     },
     "execution_count": 40,
     "metadata": {},
     "output_type": "execute_result"
    }
   ],
   "source": [
    "X.isnull().sum(axis=0)"
   ]
  },
  {
   "cell_type": "code",
   "execution_count": 42,
   "id": "c2f46dac",
   "metadata": {},
   "outputs": [
    {
     "data": {
      "text/plain": [
       "Index(['pclass', 'sex', 'age', 'fare', 'embarked'], dtype='object')"
      ]
     },
     "execution_count": 42,
     "metadata": {},
     "output_type": "execute_result"
    }
   ],
   "source": [
    "X.columns"
   ]
  },
  {
   "cell_type": "code",
   "execution_count": 47,
   "id": "c5c7ebd7",
   "metadata": {},
   "outputs": [
    {
     "data": {
      "text/plain": [
       "0       211.3375\n",
       "1         151.55\n",
       "2         151.55\n",
       "3         151.55\n",
       "4         151.55\n",
       "          ...   \n",
       "1301       7.225\n",
       "1304     14.4542\n",
       "1306       7.225\n",
       "1307       7.225\n",
       "1308       7.875\n",
       "Name: fare, Length: 1094, dtype: object"
      ]
     },
     "execution_count": 47,
     "metadata": {},
     "output_type": "execute_result"
    }
   ],
   "source": [
    "X[X.columns[3]]"
   ]
  },
  {
   "cell_type": "code",
   "execution_count": 51,
   "id": "7aa165db",
   "metadata": {},
   "outputs": [
    {
     "data": {
      "text/plain": [
       "0       211.3375\n",
       "1         151.55\n",
       "2         151.55\n",
       "3         151.55\n",
       "4         151.55\n",
       "          ...   \n",
       "1301       7.225\n",
       "1304     14.4542\n",
       "1306       7.225\n",
       "1307       7.225\n",
       "1308       7.875\n",
       "Name: fare, Length: 1094, dtype: object"
      ]
     },
     "execution_count": 51,
     "metadata": {},
     "output_type": "execute_result"
    }
   ],
   "source": [
    "X.iloc[:,3]"
   ]
  },
  {
   "cell_type": "code",
   "execution_count": 62,
   "id": "57689282",
   "metadata": {},
   "outputs": [
    {
     "data": {
      "text/html": [
       "<div>\n",
       "<style scoped>\n",
       "    .dataframe tbody tr th:only-of-type {\n",
       "        vertical-align: middle;\n",
       "    }\n",
       "\n",
       "    .dataframe tbody tr th {\n",
       "        vertical-align: top;\n",
       "    }\n",
       "\n",
       "    .dataframe thead th {\n",
       "        text-align: right;\n",
       "    }\n",
       "</style>\n",
       "<table border=\"1\" class=\"dataframe\">\n",
       "  <thead>\n",
       "    <tr style=\"text-align: right;\">\n",
       "      <th></th>\n",
       "      <th>pclass</th>\n",
       "      <th>sex</th>\n",
       "      <th>age</th>\n",
       "      <th>fare</th>\n",
       "      <th>embarked</th>\n",
       "    </tr>\n",
       "  </thead>\n",
       "  <tbody>\n",
       "    <tr>\n",
       "      <th>0</th>\n",
       "      <td>1</td>\n",
       "      <td>female</td>\n",
       "      <td>29</td>\n",
       "      <td>211.3375</td>\n",
       "      <td>S</td>\n",
       "    </tr>\n",
       "    <tr>\n",
       "      <th>1</th>\n",
       "      <td>1</td>\n",
       "      <td>male</td>\n",
       "      <td>0.9167</td>\n",
       "      <td>151.55</td>\n",
       "      <td>S</td>\n",
       "    </tr>\n",
       "    <tr>\n",
       "      <th>2</th>\n",
       "      <td>1</td>\n",
       "      <td>female</td>\n",
       "      <td>2</td>\n",
       "      <td>151.55</td>\n",
       "      <td>S</td>\n",
       "    </tr>\n",
       "    <tr>\n",
       "      <th>3</th>\n",
       "      <td>1</td>\n",
       "      <td>male</td>\n",
       "      <td>30</td>\n",
       "      <td>151.55</td>\n",
       "      <td>S</td>\n",
       "    </tr>\n",
       "    <tr>\n",
       "      <th>4</th>\n",
       "      <td>1</td>\n",
       "      <td>female</td>\n",
       "      <td>25</td>\n",
       "      <td>151.55</td>\n",
       "      <td>S</td>\n",
       "    </tr>\n",
       "    <tr>\n",
       "      <th>...</th>\n",
       "      <td>...</td>\n",
       "      <td>...</td>\n",
       "      <td>...</td>\n",
       "      <td>...</td>\n",
       "      <td>...</td>\n",
       "    </tr>\n",
       "    <tr>\n",
       "      <th>1301</th>\n",
       "      <td>3</td>\n",
       "      <td>male</td>\n",
       "      <td>45.5</td>\n",
       "      <td>7.225</td>\n",
       "      <td>C</td>\n",
       "    </tr>\n",
       "    <tr>\n",
       "      <th>1304</th>\n",
       "      <td>3</td>\n",
       "      <td>female</td>\n",
       "      <td>14.5</td>\n",
       "      <td>14.4542</td>\n",
       "      <td>C</td>\n",
       "    </tr>\n",
       "    <tr>\n",
       "      <th>1306</th>\n",
       "      <td>3</td>\n",
       "      <td>male</td>\n",
       "      <td>26.5</td>\n",
       "      <td>7.225</td>\n",
       "      <td>C</td>\n",
       "    </tr>\n",
       "    <tr>\n",
       "      <th>1307</th>\n",
       "      <td>3</td>\n",
       "      <td>male</td>\n",
       "      <td>27</td>\n",
       "      <td>7.225</td>\n",
       "      <td>C</td>\n",
       "    </tr>\n",
       "    <tr>\n",
       "      <th>1308</th>\n",
       "      <td>3</td>\n",
       "      <td>male</td>\n",
       "      <td>29</td>\n",
       "      <td>7.875</td>\n",
       "      <td>S</td>\n",
       "    </tr>\n",
       "  </tbody>\n",
       "</table>\n",
       "<p>898 rows × 5 columns</p>\n",
       "</div>"
      ],
      "text/plain": [
       "     pclass     sex     age      fare embarked\n",
       "0         1  female      29  211.3375        S\n",
       "1         1    male  0.9167    151.55        S\n",
       "2         1  female       2    151.55        S\n",
       "3         1    male      30    151.55        S\n",
       "4         1  female      25    151.55        S\n",
       "...     ...     ...     ...       ...      ...\n",
       "1301      3    male    45.5     7.225        C\n",
       "1304      3  female    14.5   14.4542        C\n",
       "1306      3    male    26.5     7.225        C\n",
       "1307      3    male      27     7.225        C\n",
       "1308      3    male      29     7.875        S\n",
       "\n",
       "[898 rows x 5 columns]"
      ]
     },
     "execution_count": 62,
     "metadata": {},
     "output_type": "execute_result"
    }
   ],
   "source": [
    "# Rows that fare has non alphanumeric character\n",
    "X[~X.iloc[:,3].str.isalnum()]"
   ]
  },
  {
   "cell_type": "code",
   "execution_count": 60,
   "id": "df16cdd3",
   "metadata": {},
   "outputs": [
    {
     "data": {
      "text/html": [
       "<div>\n",
       "<style scoped>\n",
       "    .dataframe tbody tr th:only-of-type {\n",
       "        vertical-align: middle;\n",
       "    }\n",
       "\n",
       "    .dataframe tbody tr th {\n",
       "        vertical-align: top;\n",
       "    }\n",
       "\n",
       "    .dataframe thead th {\n",
       "        text-align: right;\n",
       "    }\n",
       "</style>\n",
       "<table border=\"1\" class=\"dataframe\">\n",
       "  <thead>\n",
       "    <tr style=\"text-align: right;\">\n",
       "      <th></th>\n",
       "      <th>pclass</th>\n",
       "      <th>sex</th>\n",
       "      <th>age</th>\n",
       "      <th>fare</th>\n",
       "      <th>embarked</th>\n",
       "    </tr>\n",
       "  </thead>\n",
       "  <tbody>\n",
       "    <tr>\n",
       "      <th>7</th>\n",
       "      <td>1</td>\n",
       "      <td>male</td>\n",
       "      <td>39</td>\n",
       "      <td>0</td>\n",
       "      <td>S</td>\n",
       "    </tr>\n",
       "    <tr>\n",
       "      <th>14</th>\n",
       "      <td>1</td>\n",
       "      <td>male</td>\n",
       "      <td>80</td>\n",
       "      <td>30</td>\n",
       "      <td>S</td>\n",
       "    </tr>\n",
       "    <tr>\n",
       "      <th>22</th>\n",
       "      <td>1</td>\n",
       "      <td>male</td>\n",
       "      <td>26</td>\n",
       "      <td>30</td>\n",
       "      <td>C</td>\n",
       "    </tr>\n",
       "    <tr>\n",
       "      <th>25</th>\n",
       "      <td>1</td>\n",
       "      <td>male</td>\n",
       "      <td>25</td>\n",
       "      <td>26</td>\n",
       "      <td>C</td>\n",
       "    </tr>\n",
       "    <tr>\n",
       "      <th>31</th>\n",
       "      <td>1</td>\n",
       "      <td>male</td>\n",
       "      <td>40</td>\n",
       "      <td>31</td>\n",
       "      <td>C</td>\n",
       "    </tr>\n",
       "    <tr>\n",
       "      <th>...</th>\n",
       "      <td>...</td>\n",
       "      <td>...</td>\n",
       "      <td>...</td>\n",
       "      <td>...</td>\n",
       "      <td>...</td>\n",
       "    </tr>\n",
       "    <tr>\n",
       "      <th>1274</th>\n",
       "      <td>3</td>\n",
       "      <td>male</td>\n",
       "      <td>31</td>\n",
       "      <td>18</td>\n",
       "      <td>S</td>\n",
       "    </tr>\n",
       "    <tr>\n",
       "      <th>1275</th>\n",
       "      <td>3</td>\n",
       "      <td>male</td>\n",
       "      <td>16</td>\n",
       "      <td>18</td>\n",
       "      <td>S</td>\n",
       "    </tr>\n",
       "    <tr>\n",
       "      <th>1276</th>\n",
       "      <td>3</td>\n",
       "      <td>female</td>\n",
       "      <td>31</td>\n",
       "      <td>18</td>\n",
       "      <td>S</td>\n",
       "    </tr>\n",
       "    <tr>\n",
       "      <th>1281</th>\n",
       "      <td>3</td>\n",
       "      <td>male</td>\n",
       "      <td>22</td>\n",
       "      <td>9</td>\n",
       "      <td>S</td>\n",
       "    </tr>\n",
       "    <tr>\n",
       "      <th>1290</th>\n",
       "      <td>3</td>\n",
       "      <td>female</td>\n",
       "      <td>47</td>\n",
       "      <td>7</td>\n",
       "      <td>S</td>\n",
       "    </tr>\n",
       "  </tbody>\n",
       "</table>\n",
       "<p>196 rows × 5 columns</p>\n",
       "</div>"
      ],
      "text/plain": [
       "     pclass     sex age fare embarked\n",
       "7         1    male  39    0        S\n",
       "14        1    male  80   30        S\n",
       "22        1    male  26   30        C\n",
       "25        1    male  25   26        C\n",
       "31        1    male  40   31        C\n",
       "...     ...     ...  ..  ...      ...\n",
       "1274      3    male  31   18        S\n",
       "1275      3    male  16   18        S\n",
       "1276      3  female  31   18        S\n",
       "1281      3    male  22    9        S\n",
       "1290      3  female  47    7        S\n",
       "\n",
       "[196 rows x 5 columns]"
      ]
     },
     "execution_count": 60,
     "metadata": {},
     "output_type": "execute_result"
    }
   ],
   "source": [
    "X[X.iloc[:,3].str.isalnum()]"
   ]
  },
  {
   "cell_type": "code",
   "execution_count": 68,
   "id": "8a3f9680",
   "metadata": {},
   "outputs": [],
   "source": [
    "chlist=['0','1','2','3','4','5','6','7','8','9','.']\n",
    "checkFloat=lambda x: [i in chlist for i in x]\n",
    "X[~(X.iloc[:,3].str.isalnum())]['fare'].apply(checkFloat)"
   ]
  },
  {
   "cell_type": "code",
   "execution_count": 72,
   "id": "cd71ae77",
   "metadata": {},
   "outputs": [
    {
     "data": {
      "text/plain": [
       "0"
      ]
     },
     "execution_count": 72,
     "metadata": {},
     "output_type": "execute_result"
    }
   ],
   "source": [
    "chlist=['0','1','2','3','4','5','6','7','8','9','.']\n",
    "s1='23.2?'\n",
    "mylist= [i in chlist for i in s1]\n",
    "np.prod(np.array(mylist))"
   ]
  },
  {
   "cell_type": "code",
   "execution_count": null,
   "id": "f93f453d",
   "metadata": {},
   "outputs": [],
   "source": [
    "# Image on phone"
   ]
  },
  {
   "cell_type": "code",
   "execution_count": 80,
   "id": "46a3f33b",
   "metadata": {},
   "outputs": [],
   "source": [
    "X=X.replace('?',np.nan)"
   ]
  },
  {
   "cell_type": "code",
   "execution_count": 81,
   "id": "0f86e90d",
   "metadata": {},
   "outputs": [
    {
     "data": {
      "text/plain": [
       "pclass      object\n",
       "sex         object\n",
       "age         object\n",
       "fare        object\n",
       "embarked    object\n",
       "dtype: object"
      ]
     },
     "execution_count": 81,
     "metadata": {},
     "output_type": "execute_result"
    }
   ],
   "source": [
    "X.dtypes"
   ]
  },
  {
   "cell_type": "code",
   "execution_count": 82,
   "id": "ac81708b",
   "metadata": {},
   "outputs": [
    {
     "data": {
      "text/plain": [
       "pclass        0\n",
       "sex           0\n",
       "age         128\n",
       "fare          1\n",
       "embarked      2\n",
       "dtype: int64"
      ]
     },
     "execution_count": 82,
     "metadata": {},
     "output_type": "execute_result"
    }
   ],
   "source": [
    "X.isnull().sum(axis=0)"
   ]
  },
  {
   "cell_type": "code",
   "execution_count": 83,
   "id": "f5f74fb4",
   "metadata": {},
   "outputs": [
    {
     "data": {
      "text/plain": [
       "array(['S', 'C', nan, 'Q'], dtype=object)"
      ]
     },
     "execution_count": 83,
     "metadata": {},
     "output_type": "execute_result"
    }
   ],
   "source": [
    "X['embarked'].unique()"
   ]
  },
  {
   "cell_type": "code",
   "execution_count": 88,
   "id": "27d1fa3c",
   "metadata": {},
   "outputs": [],
   "source": [
    "X['embarked']=X['embarked'].astype('str')"
   ]
  },
  {
   "cell_type": "code",
   "execution_count": 89,
   "id": "314ced56",
   "metadata": {},
   "outputs": [
    {
     "data": {
      "text/plain": [
       "array(['S', 'C', 'nan', 'Q'], dtype=object)"
      ]
     },
     "execution_count": 89,
     "metadata": {},
     "output_type": "execute_result"
    }
   ],
   "source": [
    "X['embarked'].unique()"
   ]
  },
  {
   "cell_type": "markdown",
   "id": "fdacfbaa-7a33-4a1e-8538-eeaaa2c91397",
   "metadata": {},
   "source": [
    "#### Step 4: Use `ColumnTransformer` by selecting column by names\n",
    "\n",
    "##############################################################################\n",
    " \n",
    " We will train our classifier with the following features:\n",
    "\n",
    " Numeric Features:\n",
    "\n",
    " * ``age``: float;\n",
    " * ``fare``: float.\n",
    "\n",
    " Categorical Features:\n",
    "\n",
    " * ``embarked``: categories encoded as strings ``{'C', 'S', 'Q'}``;\n",
    " * ``sex``: categories encoded as strings ``{'female', 'male'}``;\n",
    " * ``pclass``: ordinal integers ``{1, 2, 3}``.\n",
    "\n",
    " Create the preprocessing pipelines for both numeric and categorical data.\n",
    " - For numeric features, create a pipeline with using imputer with median strategy and standard scaler\n",
    " - For categorical features, use imputer with most frequent and onehot encoder\n",
    " \n",
    " Use columntransformer to transform the features\n",
    " \n",
    " Append the preprocessor to the KNeighborsClassifier\n"
   ]
  },
  {
   "cell_type": "code",
   "execution_count": 90,
   "id": "060fe258",
   "metadata": {},
   "outputs": [],
   "source": [
    "numeric_features=['age','fare']\n",
    "numeric_transformer=Pipeline(steps=[('n_imputer',SimpleImputer(strategy='mean')),\n",
    "                                   ('scaler',StandardScaler())])"
   ]
  },
  {
   "cell_type": "code",
   "execution_count": 91,
   "id": "d491bceb-c1a1-4d30-9e44-047c23c7f644",
   "metadata": {},
   "outputs": [
    {
     "data": {
      "text/plain": [
       "Pipeline(steps=[('n_imputer', SimpleImputer()), ('scaler', StandardScaler())])"
      ]
     },
     "execution_count": 91,
     "metadata": {},
     "output_type": "execute_result"
    }
   ],
   "source": [
    "numeric_transformer"
   ]
  },
  {
   "cell_type": "code",
   "execution_count": 111,
   "id": "71a85d77",
   "metadata": {},
   "outputs": [],
   "source": [
    "categorical_features=['embarked','sex','pclass']"
   ]
  },
  {
   "cell_type": "code",
   "execution_count": 112,
   "id": "542b770d",
   "metadata": {},
   "outputs": [],
   "source": [
    "categorical_transformer=Pipeline(steps=[('c_imputer',SimpleImputer(strategy='most_frequent',missing_values='nan')),\n",
    "                                      ('ohe',OneHotEncoder(handle_unknown='ignore'))])"
   ]
  },
  {
   "cell_type": "code",
   "execution_count": 113,
   "id": "747cd9b2",
   "metadata": {},
   "outputs": [
    {
     "data": {
      "text/plain": [
       "Pipeline(steps=[('c_imputer',\n",
       "                 SimpleImputer(missing_values='nan', strategy='most_frequent')),\n",
       "                ('ohe', OneHotEncoder(handle_unknown='ignore'))])"
      ]
     },
     "execution_count": 113,
     "metadata": {},
     "output_type": "execute_result"
    }
   ],
   "source": [
    "categorical_transformer"
   ]
  },
  {
   "cell_type": "code",
   "execution_count": 114,
   "id": "4eb83a2e",
   "metadata": {},
   "outputs": [],
   "source": [
    "Preprocessor=ColumnTransformer(transformers=[('num',numeric_transformer,numeric_features),\n",
    "                 ('cat',categorical_transformer,categorical_features)])"
   ]
  },
  {
   "cell_type": "code",
   "execution_count": 115,
   "id": "07bdfbe5",
   "metadata": {},
   "outputs": [],
   "source": [
    "clf=Pipeline(steps=[('prep',Preprocessor),\n",
    "               ('knn',KNeighborsClassifier())])"
   ]
  },
  {
   "cell_type": "code",
   "execution_count": 116,
   "id": "5078302f",
   "metadata": {},
   "outputs": [
    {
     "data": {
      "text/plain": [
       "Pipeline(steps=[('prep',\n",
       "                 ColumnTransformer(transformers=[('num',\n",
       "                                                  Pipeline(steps=[('n_imputer',\n",
       "                                                                   SimpleImputer()),\n",
       "                                                                  ('scaler',\n",
       "                                                                   StandardScaler())]),\n",
       "                                                  ['age', 'fare']),\n",
       "                                                 ('cat',\n",
       "                                                  Pipeline(steps=[('c_imputer',\n",
       "                                                                   SimpleImputer(missing_values='nan',\n",
       "                                                                                 strategy='most_frequent')),\n",
       "                                                                  ('ohe',\n",
       "                                                                   OneHotEncoder(handle_unknown='ignore'))]),\n",
       "                                                  ['embarked', 'sex',\n",
       "                                                   'pclass'])])),\n",
       "                ('knn', KNeighborsClassifier())])"
      ]
     },
     "execution_count": 116,
     "metadata": {},
     "output_type": "execute_result"
    }
   ],
   "source": [
    "clf"
   ]
  },
  {
   "cell_type": "code",
   "execution_count": 117,
   "id": "2494563c",
   "metadata": {},
   "outputs": [],
   "source": [
    "X_train,X_test,y_train,y_test=train_test_split(X,y,random_state=42,stratify=y)"
   ]
  },
  {
   "cell_type": "code",
   "execution_count": 118,
   "id": "ab46e728",
   "metadata": {},
   "outputs": [
    {
     "data": {
      "text/plain": [
       "Pipeline(steps=[('prep',\n",
       "                 ColumnTransformer(transformers=[('num',\n",
       "                                                  Pipeline(steps=[('n_imputer',\n",
       "                                                                   SimpleImputer()),\n",
       "                                                                  ('scaler',\n",
       "                                                                   StandardScaler())]),\n",
       "                                                  ['age', 'fare']),\n",
       "                                                 ('cat',\n",
       "                                                  Pipeline(steps=[('c_imputer',\n",
       "                                                                   SimpleImputer(missing_values='nan',\n",
       "                                                                                 strategy='most_frequent')),\n",
       "                                                                  ('ohe',\n",
       "                                                                   OneHotEncoder(handle_unknown='ignore'))]),\n",
       "                                                  ['embarked', 'sex',\n",
       "                                                   'pclass'])])),\n",
       "                ('knn', KNeighborsClassifier())])"
      ]
     },
     "execution_count": 118,
     "metadata": {},
     "output_type": "execute_result"
    }
   ],
   "source": [
    "clf.fit(X_train,y_train)"
   ]
  },
  {
   "cell_type": "code",
   "execution_count": 119,
   "id": "2c16fa7e",
   "metadata": {},
   "outputs": [
    {
     "data": {
      "text/plain": [
       "0.7773722627737226"
      ]
     },
     "execution_count": 119,
     "metadata": {},
     "output_type": "execute_result"
    }
   ],
   "source": [
    "clf.score(X_test,y_test)"
   ]
  },
  {
   "cell_type": "markdown",
   "id": "62d017fb-0fcf-4e73-97e8-ff85c58962e3",
   "metadata": {},
   "source": [
    "Using the prediction pipeline in a grid search\n",
    "\n",
    "##############################################################################\n",
    "\n",
    " Grid search can also be performed on the different preprocessing steps\n",
    " defined in the `ColumnTransformer` object, together with the classifier's\n",
    " hyperparameters as part of the `Pipeline`.\n",
    " We will search for both the imputer strategy of the numeric preprocessing\n",
    " and the number of neighbor parameter of the kneighbors classifier using\n",
    " `GridSearchCV`.\n",
    "\n"
   ]
  },
  {
   "cell_type": "code",
   "execution_count": 126,
   "id": "20e2fff8-aaeb-4152-a390-2db2b7c62929",
   "metadata": {},
   "outputs": [
    {
     "data": {
      "text/plain": [
       "GridSearchCV(cv=5,\n",
       "             estimator=Pipeline(steps=[('prep',\n",
       "                                        ColumnTransformer(transformers=[('num',\n",
       "                                                                         Pipeline(steps=[('n_imputer',\n",
       "                                                                                          SimpleImputer()),\n",
       "                                                                                         ('scaler',\n",
       "                                                                                          StandardScaler())]),\n",
       "                                                                         ['age',\n",
       "                                                                          'fare']),\n",
       "                                                                        ('cat',\n",
       "                                                                         Pipeline(steps=[('c_imputer',\n",
       "                                                                                          SimpleImputer(missing_values='nan',\n",
       "                                                                                                        strategy='most_frequent')),\n",
       "                                                                                         ('ohe',\n",
       "                                                                                          OneHotEncoder(handle_unknown='ignore'))]),\n",
       "                                                                         ['embarked',\n",
       "                                                                          'sex',\n",
       "                                                                          'pclass'])])),\n",
       "                                       ('knn', KNeighborsClassifier())]),\n",
       "             param_grid={'knn__n_neighbors': array([ 1,  3,  5,  7,  9, 11, 13, 15, 17, 19, 21, 23, 25, 27, 29]),\n",
       "                         'prep__num__n_imputer__strategy': ['mean', 'median']})"
      ]
     },
     "execution_count": 126,
     "metadata": {},
     "output_type": "execute_result"
    }
   ],
   "source": [
    "parameters={'knn__n_neighbors':np.arange(1,30,2),\n",
    "           'prep__num__n_imputer__strategy':['mean','median']}\n",
    "mygrid=GridSearchCV(clf,param_grid=parameters,cv=5)\n",
    "mygrid.fit(X_train,y_train)"
   ]
  },
  {
   "cell_type": "code",
   "execution_count": 127,
   "id": "ca6d32c0",
   "metadata": {},
   "outputs": [
    {
     "data": {
      "text/plain": [
       "[('prep',\n",
       "  ColumnTransformer(transformers=[('num',\n",
       "                                   Pipeline(steps=[('n_imputer', SimpleImputer()),\n",
       "                                                   ('scaler', StandardScaler())]),\n",
       "                                   ['age', 'fare']),\n",
       "                                  ('cat',\n",
       "                                   Pipeline(steps=[('c_imputer',\n",
       "                                                    SimpleImputer(missing_values='nan',\n",
       "                                                                  strategy='most_frequent')),\n",
       "                                                   ('ohe',\n",
       "                                                    OneHotEncoder(handle_unknown='ignore'))]),\n",
       "                                   ['embarked', 'sex', 'pclass'])])),\n",
       " ('knn', KNeighborsClassifier())]"
      ]
     },
     "execution_count": 127,
     "metadata": {},
     "output_type": "execute_result"
    }
   ],
   "source": [
    "clf.steps"
   ]
  },
  {
   "cell_type": "code",
   "execution_count": 124,
   "id": "17ba8bfe",
   "metadata": {},
   "outputs": [
    {
     "data": {
      "text/plain": [
       "[('num',\n",
       "  Pipeline(steps=[('n_imputer', SimpleImputer()), ('scaler', StandardScaler())]),\n",
       "  ['age', 'fare']),\n",
       " ('cat',\n",
       "  Pipeline(steps=[('c_imputer',\n",
       "                   SimpleImputer(missing_values='nan', strategy='most_frequent')),\n",
       "                  ('ohe', OneHotEncoder(handle_unknown='ignore'))]),\n",
       "  ['embarked', 'sex', 'pclass'])]"
      ]
     },
     "execution_count": 124,
     "metadata": {},
     "output_type": "execute_result"
    }
   ],
   "source": [
    "Preprocessor.transformers"
   ]
  },
  {
   "cell_type": "code",
   "execution_count": 128,
   "id": "43787a08",
   "metadata": {},
   "outputs": [
    {
     "data": {
      "text/plain": [
       "[('num',\n",
       "  Pipeline(steps=[('n_imputer', SimpleImputer()), ('scaler', StandardScaler())]),\n",
       "  ['age', 'fare']),\n",
       " ('cat',\n",
       "  Pipeline(steps=[('c_imputer',\n",
       "                   SimpleImputer(missing_values='nan', strategy='most_frequent')),\n",
       "                  ('ohe', OneHotEncoder(handle_unknown='ignore'))]),\n",
       "  ['embarked', 'sex', 'pclass'])]"
      ]
     },
     "execution_count": 128,
     "metadata": {},
     "output_type": "execute_result"
    }
   ],
   "source": [
    "Preprocessor.transformers"
   ]
  },
  {
   "cell_type": "code",
   "execution_count": 129,
   "id": "fab6071f",
   "metadata": {},
   "outputs": [
    {
     "data": {
      "text/plain": [
       "{'knn__n_neighbors': 29, 'prep__num__n_imputer__strategy': 'mean'}"
      ]
     },
     "execution_count": 129,
     "metadata": {},
     "output_type": "execute_result"
    }
   ],
   "source": [
    "mygrid.best_params_"
   ]
  },
  {
   "cell_type": "code",
   "execution_count": 130,
   "id": "12a6b278",
   "metadata": {},
   "outputs": [
    {
     "data": {
      "text/plain": [
       "0.7670731707317073"
      ]
     },
     "execution_count": 130,
     "metadata": {},
     "output_type": "execute_result"
    }
   ],
   "source": [
    "mygrid.score(X_train,y_train)"
   ]
  },
  {
   "cell_type": "code",
   "execution_count": 131,
   "id": "330a1f76",
   "metadata": {},
   "outputs": [
    {
     "data": {
      "text/plain": [
       "0.7664233576642335"
      ]
     },
     "execution_count": 131,
     "metadata": {},
     "output_type": "execute_result"
    }
   ],
   "source": [
    "mygrid.score(X_test,y_test)"
   ]
  },
  {
   "cell_type": "markdown",
   "id": "0ebe6a72",
   "metadata": {},
   "source": []
  },
  {
   "cell_type": "code",
   "execution_count": null,
   "id": "1703f76f",
   "metadata": {},
   "outputs": [],
   "source": []
  }
 ],
 "metadata": {
  "kernelspec": {
   "display_name": "Python 3 (ipykernel)",
   "language": "python",
   "name": "python3"
  },
  "language_info": {
   "codemirror_mode": {
    "name": "ipython",
    "version": 3
   },
   "file_extension": ".py",
   "mimetype": "text/x-python",
   "name": "python",
   "nbconvert_exporter": "python",
   "pygments_lexer": "ipython3",
   "version": "3.7.11"
  }
 },
 "nbformat": 4,
 "nbformat_minor": 5
}
