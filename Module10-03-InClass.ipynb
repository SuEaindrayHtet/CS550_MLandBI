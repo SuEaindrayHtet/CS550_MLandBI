{
 "cells": [
  {
   "cell_type": "code",
   "execution_count": 1,
   "metadata": {
    "jupyter": {
     "outputs_hidden": false
    }
   },
   "outputs": [],
   "source": [
    "%matplotlib inline"
   ]
  },
  {
   "cell_type": "markdown",
   "metadata": {},
   "source": [
    "\n",
    "# Early stopping of Gradient Boosting\n",
    "\n",
    "Gradient boosting is an ensembling technique where several weak learners\n",
    "(regression trees) are combined to yield a powerful single model, in an\n",
    "iterative fashion.\n",
    "\n",
    "Early stopping support in Gradient Boosting enables us to find the least number\n",
    "of iterations which is sufficient to build a model that generalizes well to\n",
    "unseen data.\n",
    "\n",
    "The concept of early stopping is simple. We specify a ``validation_fraction``\n",
    "which denotes the fraction of the whole dataset that will be kept aside from\n",
    "training to assess the validation loss of the model. The gradient boosting\n",
    "model is trained using the training set and evaluated using the validation set.\n",
    "When each additional stage of regression tree is added, the validation set is\n",
    "used to score the model.  This is continued until the scores of the model in\n",
    "the last ``n_iter_no_change`` stages do not improve by atleast `tol`. After\n",
    "that the model is considered to have converged and further addition of stages\n",
    "is \"stopped early\".\n",
    "\n",
    "The number of stages of the final model is available at the attribute\n",
    "``n_estimators_``.\n",
    "\n",
    "This example illustrates how the early stopping can used in the\n",
    ":class:`~sklearn.ensemble.GradientBoostingClassifier` model to achieve\n",
    "almost the same accuracy as compared to a model built without early stopping\n",
    "using many fewer estimators. This can significantly reduce training time,\n",
    "memory usage and prediction latency.\n"
   ]
  },
  {
   "cell_type": "code",
   "execution_count": 2,
   "metadata": {
    "jupyter": {
     "outputs_hidden": false
    }
   },
   "outputs": [],
   "source": [
    "\n",
    "import time\n",
    "\n",
    "import numpy as np\n",
    "import matplotlib.pyplot as plt\n",
    "\n",
    "from sklearn.ensemble import GradientBoostingClassifier\n",
    "from sklearn.datasets import load_digits\n",
    "from sklearn.model_selection import train_test_split\n",
    "from sklearn.metrics import accuracy_score"
   ]
  },
  {
   "cell_type": "markdown",
   "metadata": {},
   "source": [
    "\n",
    "- Load digits data set using `load_digits()`\n",
    "- Train `GradientBoostingCLassifier` with and without early stopping\n",
    "- Keep a timer for both cases and report the time it takes to train both models\n",
    "- Report the scores for both models"
   ]
  },
  {
   "cell_type": "code",
   "execution_count": 3,
   "metadata": {},
   "outputs": [],
   "source": [
    "digits=load_digits()\n",
    "X,y=digits.data, digits.target"
   ]
  },
  {
   "cell_type": "code",
   "execution_count": 4,
   "metadata": {},
   "outputs": [],
   "source": [
    "X_train,X_test,y_train,y_test=train_test_split(X,y,test_size=0.2,random_state=42)"
   ]
  },
  {
   "cell_type": "code",
   "execution_count": 5,
   "metadata": {},
   "outputs": [],
   "source": [
    "start_time_no_early_stopping = time.time()\n",
    "gb_no_early_stopping = GradientBoostingClassifier(\n",
    "    n_estimators=500,   # High number to allow comparison\n",
    "    max_depth=3,\n",
    "    random_state=42\n",
    ")\n",
    "gb_no_early_stopping.fit(X_train, y_train)\n",
    "end_time_no_early_stopping = time.time()\n",
    "time_no_early_stopping = end_time_no_early_stopping - start_time_no_early_stopping"
   ]
  },
  {
   "cell_type": "code",
   "execution_count": 6,
   "metadata": {},
   "outputs": [],
   "source": [
    "y_pred_no_early_stopping = gb_no_early_stopping.predict(X_test)\n",
    "accuracy_no_early_stopping = accuracy_score(y_test, y_pred_no_early_stopping)"
   ]
  },
  {
   "cell_type": "code",
   "execution_count": 7,
   "metadata": {},
   "outputs": [],
   "source": [
    "start_time_early_stopping = time.time()\n",
    "\n",
    "gb_early_stopping = GradientBoostingClassifier(\n",
    "    n_estimators=500,\n",
    "    max_depth=3,\n",
    "    validation_fraction=0.2,   \n",
    "    n_iter_no_change=10,       \n",
    "    tol=1e-4,                  \n",
    "    random_state=42\n",
    ")\n",
    "gb_early_stopping.fit(X_train, y_train)\n",
    "\n",
    "end_time_early_stopping = time.time()\n",
    "time_early_stopping = end_time_early_stopping - start_time_early_stopping"
   ]
  },
  {
   "cell_type": "code",
   "execution_count": 8,
   "metadata": {},
   "outputs": [],
   "source": [
    "y_pred_early_stopping = gb_early_stopping.predict(X_test)\n",
    "accuracy_early_stopping = accuracy_score(y_test, y_pred_early_stopping)"
   ]
  },
  {
   "cell_type": "code",
   "execution_count": 9,
   "metadata": {},
   "outputs": [],
   "source": [
    "n_estimators_used=gb_early_stopping.n_estimators_"
   ]
  },
  {
   "cell_type": "code",
   "execution_count": 10,
   "metadata": {},
   "outputs": [
    {
     "name": "stdout",
     "output_type": "stream",
     "text": [
      "WITHOUT Early Stopping:\n",
      "Training Time: 25.42 seconds\n",
      "Accuracy: 0.9750\n",
      "\n",
      "WITH Early Stopping:\n",
      "Training Time: 5.75 seconds\n",
      "Accuracy: 0.9639\n",
      "Number of Estimators Used: 87\n"
     ]
    },
    {
     "data": {
      "image/png": "[encoded data removed]",
      "text/plain": [
       "<Figure size 432x288 with 1 Axes>"
      ]
     },
     "metadata": {
      "needs_background": "light"
     },
     "output_type": "display_data"
    }
   ],
   "source": [
    "print(\"WITHOUT Early Stopping:\")\n",
    "print(f\"Training Time: {time_no_early_stopping:.2f} seconds\")\n",
    "print(f\"Accuracy: {accuracy_no_early_stopping:.4f}\")\n",
    "\n",
    "print(\"\\nWITH Early Stopping:\")\n",
    "print(f\"Training Time: {time_early_stopping:.2f} seconds\")\n",
    "print(f\"Accuracy: {accuracy_early_stopping:.4f}\")\n",
    "print(f\"Number of Estimators Used: {n_estimators_used}\")\n",
    "\n",
    "plt.bar([\"Without Early Stopping\", \"With Early Stopping\"],\n",
    "        [time_no_early_stopping, time_early_stopping], color=[\"blue\", \"green\"])\n",
    "plt.ylabel(\"Training Time (seconds)\")\n",
    "plt.title(\"Training Time Comparison\")\n",
    "plt.show()"
   ]
  }
 ],
 "metadata": {
  "kernelspec": {
   "display_name": "Python 3 (ipykernel)",
   "language": "python",
   "name": "python3"
  },
  "language_info": {
   "codemirror_mode": {
    "name": "ipython",
    "version": 3
   },
   "file_extension": ".py",
   "mimetype": "text/x-python",
   "name": "python",
   "nbconvert_exporter": "python",
   "pygments_lexer": "ipython3",
   "version": "3.7.11"
  }
 },
 "nbformat": 4,
 "nbformat_minor": 4
}
